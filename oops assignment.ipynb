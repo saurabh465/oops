{
 "cells": [
  {
   "cell_type": "code",
   "execution_count": 2,
   "id": "9ef5799a-11b7-4108-9ef7-8a2fe2a05280",
   "metadata": {},
   "outputs": [
    {
     "data": {
      "text/plain": [
       "' class is a blueprint or template for creating objects, while an object is an instance of a class.\\nexample: like a car is class and oblects are models '"
      ]
     },
     "execution_count": 2,
     "metadata": {},
     "output_type": "execute_result"
    }
   ],
   "source": [
    "#question 1 \n",
    "\"\"\" class is a blueprint or template for creating objects, while an object is an instance of a class.\n",
    "example: like a car is class and oblects are models \"\"\""
   ]
  },
  {
   "cell_type": "code",
   "execution_count": 3,
   "id": "b521ea78-73da-4696-ae8e-ed833ae4a842",
   "metadata": {},
   "outputs": [
    {
     "data": {
      "text/plain": [
       "'four pillers are Polymorphism , Encapsulation , Inheritance , Abstraction '"
      ]
     },
     "execution_count": 3,
     "metadata": {},
     "output_type": "execute_result"
    }
   ],
   "source": [
    "#question 2\n",
    "\"\"\"four pillers are Polymorphism , Encapsulation , Inheritance , Abstraction \"\"\""
   ]
  },
  {
   "cell_type": "code",
   "execution_count": 4,
   "id": "fab62863-a986-49b9-a407-824f021e6ec6",
   "metadata": {},
   "outputs": [],
   "source": [
    "#Question3\n",
    "\"\"\"--init-- is used as input in fuction of class \"\"\"\n",
    "#example\n",
    "class test :\n",
    "    def __init__(self, marks,rollno):\n",
    "        self.marks=marks\n",
    "        self.rollno = rollno \n",
    "    "
   ]
  },
  {
   "cell_type": "code",
   "execution_count": 5,
   "id": "4ea41dba-f196-4f9a-b877-82fdbe62cf04",
   "metadata": {},
   "outputs": [],
   "source": [
    "obj=test(122,21)"
   ]
  },
  {
   "cell_type": "code",
   "execution_count": 6,
   "id": "f6348f94-136c-4bdf-a5a8-9b04e2f5714f",
   "metadata": {},
   "outputs": [
    {
     "data": {
      "text/plain": [
       "122"
      ]
     },
     "execution_count": 6,
     "metadata": {},
     "output_type": "execute_result"
    }
   ],
   "source": [
    "obj.marks"
   ]
  },
  {
   "cell_type": "code",
   "execution_count": 15,
   "id": "81d0b776-f79d-47ca-a511-b59192261478",
   "metadata": {},
   "outputs": [
    {
     "data": {
      "text/plain": [
       "\"the self keyword is used as a reference to the current instance of a class. It is a common convention to name this parameter as self self, you can access the object's attributes and call its methods from within the class.\""
      ]
     },
     "execution_count": 15,
     "metadata": {},
     "output_type": "execute_result"
    }
   ],
   "source": [
    "#question 4 \n",
    "\"\"\"the self keyword is used as a reference to the current instance of a class. It is a common convention to name this parameter as self self, you can access the object's attributes and call its methods from within the class.\"\"\""
   ]
  },
  {
   "cell_type": "code",
   "execution_count": 16,
   "id": "68abf517-9d2e-4870-ad3d-1457604c00db",
   "metadata": {},
   "outputs": [],
   "source": [
    "#question 5\n",
    "\"\"\"inheritance : its is method where we use multiple class in one class you can say we can previous class in cirrent class \"\"\"\n",
    "#exanple\n",
    "class main:\n",
    "    def class1(self):\n",
    "        return \"hello\""
   ]
  },
  {
   "cell_type": "code",
   "execution_count": 17,
   "id": "e1da7106-24e3-4235-9ccc-7846383af364",
   "metadata": {},
   "outputs": [],
   "source": [
    "class main2 :\n",
    "    def class2(self):\n",
    "        return \"wow\""
   ]
  },
  {
   "cell_type": "code",
   "execution_count": 18,
   "id": "34ab61cc-9a56-4003-b597-824fc1be397e",
   "metadata": {},
   "outputs": [],
   "source": [
    "class main3 :\n",
    "    pass"
   ]
  },
  {
   "cell_type": "code",
   "execution_count": null,
   "id": "cc5c1fbc-7724-45f7-9050-4be227b08bba",
   "metadata": {},
   "outputs": [],
   "source": [
    "obj ="
   ]
  }
 ],
 "metadata": {
  "kernelspec": {
   "display_name": "Python 3 (ipykernel)",
   "language": "python",
   "name": "python3"
  },
  "language_info": {
   "codemirror_mode": {
    "name": "ipython",
    "version": 3
   },
   "file_extension": ".py",
   "mimetype": "text/x-python",
   "name": "python",
   "nbconvert_exporter": "python",
   "pygments_lexer": "ipython3",
   "version": "3.10.8"
  }
 },
 "nbformat": 4,
 "nbformat_minor": 5
}
